{
 "cells": [
  {
   "cell_type": "markdown",
   "metadata": {},
   "source": [
    "# PySpark"
   ]
  },
  {
   "cell_type": "code",
   "execution_count": 28,
   "metadata": {
    "id": "G8g1KmKK5SST"
   },
   "outputs": [],
   "source": [
    "import pyspark"
   ]
  },
  {
   "cell_type": "markdown",
   "metadata": {
    "id": "5m2O8t3z83AK"
   },
   "source": [
    "### **Pandas **"
   ]
  },
  {
   "cell_type": "code",
   "execution_count": 5,
   "metadata": {
    "colab": {
     "base_uri": "https://localhost:8080/",
     "height": 206
    },
    "id": "dKuxylG556pr",
    "outputId": "d66d7b1b-4324-4371-b36d-7787749a9649"
   },
   "outputs": [
    {
     "data": {
      "text/html": [
       "<div>\n",
       "<style scoped>\n",
       "    .dataframe tbody tr th:only-of-type {\n",
       "        vertical-align: middle;\n",
       "    }\n",
       "\n",
       "    .dataframe tbody tr th {\n",
       "        vertical-align: top;\n",
       "    }\n",
       "\n",
       "    .dataframe thead th {\n",
       "        text-align: right;\n",
       "    }\n",
       "</style>\n",
       "<table border=\"1\" class=\"dataframe\">\n",
       "  <thead>\n",
       "    <tr style=\"text-align: right;\">\n",
       "      <th></th>\n",
       "      <th>Type</th>\n",
       "      <th>Flour</th>\n",
       "      <th>Milk</th>\n",
       "      <th>Sugar</th>\n",
       "      <th>Butter</th>\n",
       "      <th>Egg</th>\n",
       "      <th>Baking Powder</th>\n",
       "      <th>Vanilla</th>\n",
       "      <th>salt</th>\n",
       "    </tr>\n",
       "  </thead>\n",
       "  <tbody>\n",
       "    <tr>\n",
       "      <th>0</th>\n",
       "      <td>Muffin</td>\n",
       "      <td>55</td>\n",
       "      <td>28</td>\n",
       "      <td>3</td>\n",
       "      <td>7</td>\n",
       "      <td>5</td>\n",
       "      <td>2</td>\n",
       "      <td>0</td>\n",
       "      <td>0</td>\n",
       "    </tr>\n",
       "    <tr>\n",
       "      <th>1</th>\n",
       "      <td>Muffin</td>\n",
       "      <td>47</td>\n",
       "      <td>24</td>\n",
       "      <td>12</td>\n",
       "      <td>6</td>\n",
       "      <td>9</td>\n",
       "      <td>1</td>\n",
       "      <td>0</td>\n",
       "      <td>0</td>\n",
       "    </tr>\n",
       "    <tr>\n",
       "      <th>2</th>\n",
       "      <td>Muffin</td>\n",
       "      <td>47</td>\n",
       "      <td>23</td>\n",
       "      <td>18</td>\n",
       "      <td>6</td>\n",
       "      <td>4</td>\n",
       "      <td>1</td>\n",
       "      <td>0</td>\n",
       "      <td>0</td>\n",
       "    </tr>\n",
       "    <tr>\n",
       "      <th>3</th>\n",
       "      <td>Muffin</td>\n",
       "      <td>50</td>\n",
       "      <td>25</td>\n",
       "      <td>12</td>\n",
       "      <td>6</td>\n",
       "      <td>5</td>\n",
       "      <td>2</td>\n",
       "      <td>1</td>\n",
       "      <td>0</td>\n",
       "    </tr>\n",
       "    <tr>\n",
       "      <th>4</th>\n",
       "      <td>Muffin</td>\n",
       "      <td>55</td>\n",
       "      <td>27</td>\n",
       "      <td>3</td>\n",
       "      <td>7</td>\n",
       "      <td>5</td>\n",
       "      <td>2</td>\n",
       "      <td>1</td>\n",
       "      <td>0</td>\n",
       "    </tr>\n",
       "  </tbody>\n",
       "</table>\n",
       "</div>"
      ],
      "text/plain": [
       "     Type  Flour  Milk  Sugar  Butter  Egg  Baking Powder  Vanilla  salt\n",
       "0  Muffin     55    28      3       7    5              2        0     0\n",
       "1  Muffin     47    24     12       6    9              1        0     0\n",
       "2  Muffin     47    23     18       6    4              1        0     0\n",
       "3  Muffin     50    25     12       6    5              2        1     0\n",
       "4  Muffin     55    27      3       7    5              2        1     0"
      ]
     },
     "execution_count": 5,
     "metadata": {
      "tags": []
     },
     "output_type": "execute_result"
    }
   ],
   "source": [
    "import pandas as pd\n",
    "df=pd.read_csv(\"/content/drive/MyDrive/Big data_Apache Spark,PySpark/data.csv\")\n",
    "df.head()"
   ]
  },
  {
   "cell_type": "code",
   "execution_count": 26,
   "metadata": {
    "colab": {
     "base_uri": "https://localhost:8080/"
    },
    "id": "dBEhiGk-_Z0C",
    "outputId": "8b0a914d-5a1b-4923-c782-b3adb2949618"
   },
   "outputs": [
    {
     "name": "stdout",
     "output_type": "stream",
     "text": [
      "<class 'pandas.core.frame.DataFrame'>\n",
      "RangeIndex: 18 entries, 0 to 17\n",
      "Data columns (total 9 columns):\n",
      " #   Column         Non-Null Count  Dtype \n",
      "---  ------         --------------  ----- \n",
      " 0   Type           18 non-null     object\n",
      " 1   Flour          18 non-null     int64 \n",
      " 2   Milk           18 non-null     int64 \n",
      " 3   Sugar          18 non-null     int64 \n",
      " 4   Butter         18 non-null     int64 \n",
      " 5   Egg            18 non-null     int64 \n",
      " 6   Baking Powder  18 non-null     int64 \n",
      " 7   Vanilla        18 non-null     int64 \n",
      " 8   salt           18 non-null     int64 \n",
      "dtypes: int64(8), object(1)\n",
      "memory usage: 1.4+ KB\n"
     ]
    }
   ],
   "source": [
    "df.info()"
   ]
  },
  {
   "cell_type": "code",
   "execution_count": 17,
   "metadata": {
    "id": "caxzdYp06toF"
   },
   "outputs": [],
   "source": [
    "from pyspark.sql import SparkSession"
   ]
  },
  {
   "cell_type": "markdown",
   "metadata": {
    "id": "XFe5HRaB9FPK"
   },
   "source": [
    "# **Building a Session**"
   ]
  },
  {
   "cell_type": "code",
   "execution_count": 18,
   "metadata": {
    "id": "loT3iUOt7Kls"
   },
   "outputs": [],
   "source": [
    "spark=SparkSession.builder.appName(\"Abhisek\").getOrCreate()"
   ]
  },
  {
   "cell_type": "code",
   "execution_count": 19,
   "metadata": {
    "colab": {
     "base_uri": "https://localhost:8080/",
     "height": 219
    },
    "id": "-QPOBpkz7ZIv",
    "outputId": "60dc9308-25a7-4013-9b2e-56e0f348ce1f"
   },
   "outputs": [
    {
     "data": {
      "text/html": [
       "\n",
       "            <div>\n",
       "                <p><b>SparkSession - in-memory</b></p>\n",
       "                \n",
       "        <div>\n",
       "            <p><b>SparkContext</b></p>\n",
       "\n",
       "            <p><a href=\"http://a44fa2e22e32:4040\">Spark UI</a></p>\n",
       "\n",
       "            <dl>\n",
       "              <dt>Version</dt>\n",
       "                <dd><code>v3.1.2</code></dd>\n",
       "              <dt>Master</dt>\n",
       "                <dd><code>local[*]</code></dd>\n",
       "              <dt>AppName</dt>\n",
       "                <dd><code>Abhisek</code></dd>\n",
       "            </dl>\n",
       "        </div>\n",
       "        \n",
       "            </div>\n",
       "        "
      ],
      "text/plain": [
       "<pyspark.sql.session.SparkSession at 0x7fb857e2da10>"
      ]
     },
     "execution_count": 19,
     "metadata": {
      "tags": []
     },
     "output_type": "execute_result"
    }
   ],
   "source": [
    "spark"
   ]
  },
  {
   "cell_type": "markdown",
   "metadata": {
    "id": "cA2cQKEt9QVM"
   },
   "source": [
    "# **Loading a data **"
   ]
  },
  {
   "cell_type": "code",
   "execution_count": 20,
   "metadata": {
    "colab": {
     "base_uri": "https://localhost:8080/"
    },
    "id": "CopNsQJJ7cVQ",
    "outputId": "a0522931-be5b-4fca-960b-92bab68e653c"
   },
   "outputs": [
    {
     "name": "stdout",
     "output_type": "stream",
     "text": [
      "+-------+-----+----+-----+------+---+-------------+-------+----+\n",
      "|   Type|Flour|Milk|Sugar|Butter|Egg|Baking Powder|Vanilla|salt|\n",
      "+-------+-----+----+-----+------+---+-------------+-------+----+\n",
      "| Muffin|   55|  28|    3|     7|  5|            2|      0|   0|\n",
      "| Muffin|   47|  24|   12|     6|  9|            1|      0|   0|\n",
      "| Muffin|   47|  23|   18|     6|  4|            1|      0|   0|\n",
      "| Muffin|   50|  25|   12|     6|  5|            2|      1|   0|\n",
      "| Muffin|   55|  27|    3|     7|  5|            2|      1|   0|\n",
      "| Muffin|   54|  27|    7|     5|  5|            2|      0|   0|\n",
      "| Muffin|   47|  26|   10|    10|  4|            1|      0|   0|\n",
      "| Muffin|   50|  17|   17|     8|  6|            1|      0|   0|\n",
      "| Muffin|   50|  17|   17|    11|  4|            1|      0|   0|\n",
      "|Cupcake|   39|   0|   26|    19| 14|            1|      1|   0|\n",
      "|Cupcake|   34|  17|   20|    20|  5|            2|      1|   0|\n",
      "|Cupcake|   39|  13|   17|    19| 10|            1|      1|   0|\n",
      "|Cupcake|   38|  15|   23|    15|  8|            0|      1|   0|\n",
      "|Cupcake|   42|  18|   25|     9|  5|            1|      0|   0|\n",
      "|Cupcake|   36|  14|   21|    14| 11|            2|      1|   0|\n",
      "|Cupcake|   38|  15|   31|     8|  6|            1|      1|   0|\n",
      "|Cupcake|   36|  16|   24|    12|  9|            1|      1|   0|\n",
      "|Cupcake|   34|  17|   23|    11| 13|            0|      1|   0|\n",
      "+-------+-----+----+-----+------+---+-------------+-------+----+\n",
      "\n"
     ]
    }
   ],
   "source": [
    "df_pyspark=spark.read.option(\"header\",\"true\").csv(\"/content/drive/MyDrive/Big data_Apache Spark,PySpark/data.csv\").show()"
   ]
  }
 ],
 "metadata": {
  "colab": {
   "name": "Intro pyspark part 0.ipynb",
   "provenance": []
  },
  "kernelspec": {
   "display_name": "Python 3",
   "language": "python",
   "name": "python3"
  },
  "language_info": {
   "codemirror_mode": {
    "name": "ipython",
    "version": 3
   },
   "file_extension": ".py",
   "mimetype": "text/x-python",
   "name": "python",
   "nbconvert_exporter": "python",
   "pygments_lexer": "ipython3",
   "version": "3.8.5"
  }
 },
 "nbformat": 4,
 "nbformat_minor": 1
}
