{
 "cells": [
  {
   "cell_type": "markdown",
   "metadata": {},
   "source": [
    "# PySpark"
   ]
  },
  {
   "cell_type": "markdown",
   "metadata": {
    "id": "WTBmKXiGWjDj"
   },
   "source": [
    "Building a session "
   ]
  },
  {
   "cell_type": "code",
   "execution_count": 2,
   "metadata": {
    "id": "5kulMdf1Bd2B"
   },
   "outputs": [],
   "source": [
    "from pyspark.sql import SparkSession"
   ]
  },
  {
   "cell_type": "code",
   "execution_count": 3,
   "metadata": {
    "id": "RPBMQiFbCAqE"
   },
   "outputs": [],
   "source": [
    "spark=SparkSession.builder.appName(\"Datta\").getOrCreate()"
   ]
  },
  {
   "cell_type": "code",
   "execution_count": 4,
   "metadata": {
    "colab": {
     "base_uri": "https://localhost:8080/",
     "height": 219
    },
    "id": "Cy1BR8gDCKIp",
    "outputId": "2776e7bc-4e2c-4756-cb1f-7af2a6d412d2"
   },
   "outputs": [
    {
     "data": {
      "text/html": [
       "\n",
       "            <div>\n",
       "                <p><b>SparkSession - in-memory</b></p>\n",
       "                \n",
       "        <div>\n",
       "            <p><b>SparkContext</b></p>\n",
       "\n",
       "            <p><a href=\"http://ee5434818692:4040\">Spark UI</a></p>\n",
       "\n",
       "            <dl>\n",
       "              <dt>Version</dt>\n",
       "                <dd><code>v3.1.2</code></dd>\n",
       "              <dt>Master</dt>\n",
       "                <dd><code>local[*]</code></dd>\n",
       "              <dt>AppName</dt>\n",
       "                <dd><code>Datta</code></dd>\n",
       "            </dl>\n",
       "        </div>\n",
       "        \n",
       "            </div>\n",
       "        "
      ],
      "text/plain": [
       "<pyspark.sql.session.SparkSession at 0x7fa8354bc890>"
      ]
     },
     "execution_count": 4,
     "metadata": {
      "tags": []
     },
     "output_type": "execute_result"
    }
   ],
   "source": [
    "spark"
   ]
  },
  {
   "cell_type": "markdown",
   "metadata": {
    "id": "aVcHdoI2WnVP"
   },
   "source": [
    "Loading a dataset"
   ]
  },
  {
   "cell_type": "code",
   "execution_count": 28,
   "metadata": {
    "id": "M2T6SsbrCMd8"
   },
   "outputs": [],
   "source": [
    "df=spark.read.option(\"header\",\"true\").csv(\"/content/drive/MyDrive/Big data_Apache Spark,PySpark/data.csv\",inferSchema=True)"
   ]
  },
  {
   "cell_type": "code",
   "execution_count": 13,
   "metadata": {
    "colab": {
     "base_uri": "https://localhost:8080/"
    },
    "id": "2suDRrKOMfVp",
    "outputId": "ff10f517-a492-423e-db70-8f13ea0e7235"
   },
   "outputs": [
    {
     "name": "stdout",
     "output_type": "stream",
     "text": [
      "+-------+-----+----+-----+------+---+-------------+-------+----+\n",
      "|   Type|Flour|Milk|Sugar|Butter|Egg|Baking Powder|Vanilla|salt|\n",
      "+-------+-----+----+-----+------+---+-------------+-------+----+\n",
      "| Muffin|   55|  28|    3|     7|  5|            2|      0|   0|\n",
      "| Muffin|   47|  24|   12|     6|  9|            1|      0|   0|\n",
      "| Muffin|   47|  23|   18|     6|  4|            1|      0|   0|\n",
      "| Muffin|   50|  25|   12|     6|  5|            2|      1|   0|\n",
      "| Muffin|   55|  27|    3|     7|  5|            2|      1|   0|\n",
      "| Muffin|   54|  27|    7|     5|  5|            2|      0|   0|\n",
      "| Muffin|   47|  26|   10|    10|  4|            1|      0|   0|\n",
      "| Muffin|   50|  17|   17|     8|  6|            1|      0|   0|\n",
      "| Muffin|   50|  17|   17|    11|  4|            1|      0|   0|\n",
      "|Cupcake|   39|   0|   26|    19| 14|            1|      1|   0|\n",
      "|Cupcake|   34|  17|   20|    20|  5|            2|      1|   0|\n",
      "|Cupcake|   39|  13|   17|    19| 10|            1|      1|   0|\n",
      "|Cupcake|   38|  15|   23|    15|  8|            0|      1|   0|\n",
      "|Cupcake|   42|  18|   25|     9|  5|            1|      0|   0|\n",
      "|Cupcake|   36|  14|   21|    14| 11|            2|      1|   0|\n",
      "|Cupcake|   38|  15|   31|     8|  6|            1|      1|   0|\n",
      "|Cupcake|   36|  16|   24|    12|  9|            1|      1|   0|\n",
      "|Cupcake|   34|  17|   23|    11| 13|            0|      1|   0|\n",
      "+-------+-----+----+-----+------+---+-------------+-------+----+\n",
      "\n"
     ]
    }
   ],
   "source": [
    "df.show()"
   ]
  },
  {
   "cell_type": "markdown",
   "metadata": {
    "id": "PICvhTL3WtPc"
   },
   "source": [
    "Information"
   ]
  },
  {
   "cell_type": "code",
   "execution_count": 14,
   "metadata": {
    "colab": {
     "base_uri": "https://localhost:8080/"
    },
    "id": "4ECkR7jAC9Ad",
    "outputId": "76dc9c55-487e-49d9-d87e-dde813a3bc84"
   },
   "outputs": [
    {
     "name": "stdout",
     "output_type": "stream",
     "text": [
      "root\n",
      " |-- Type: string (nullable = true)\n",
      " |-- Flour: integer (nullable = true)\n",
      " |-- Milk: integer (nullable = true)\n",
      " |-- Sugar: integer (nullable = true)\n",
      " |-- Butter: integer (nullable = true)\n",
      " |-- Egg: integer (nullable = true)\n",
      " |-- Baking Powder: integer (nullable = true)\n",
      " |-- Vanilla: integer (nullable = true)\n",
      " |-- salt: integer (nullable = true)\n",
      "\n"
     ]
    }
   ],
   "source": [
    "df.printSchema()"
   ]
  },
  {
   "cell_type": "markdown",
   "metadata": {
    "id": "N6mkS-mhWwDR"
   },
   "source": [
    "Columns "
   ]
  },
  {
   "cell_type": "code",
   "execution_count": 16,
   "metadata": {
    "colab": {
     "base_uri": "https://localhost:8080/"
    },
    "id": "DRXOiDLBDobW",
    "outputId": "ceebcaea-2d66-4737-93c4-22957f74db6f"
   },
   "outputs": [
    {
     "data": {
      "text/plain": [
       "['Type',\n",
       " 'Flour',\n",
       " 'Milk',\n",
       " 'Sugar',\n",
       " 'Butter',\n",
       " 'Egg',\n",
       " 'Baking Powder',\n",
       " 'Vanilla',\n",
       " 'salt']"
      ]
     },
     "execution_count": 16,
     "metadata": {
      "tags": []
     },
     "output_type": "execute_result"
    }
   ],
   "source": [
    "df.columns"
   ]
  },
  {
   "cell_type": "code",
   "execution_count": 17,
   "metadata": {
    "colab": {
     "base_uri": "https://localhost:8080/"
    },
    "id": "lQUjaq1aNsPo",
    "outputId": "245e2048-22ee-42d3-d876-6c0bff6caed5"
   },
   "outputs": [
    {
     "data": {
      "text/plain": [
       "[Row(Type='Muffin', Flour=55, Milk=28, Sugar=3, Butter=7, Egg=5, Baking Powder=2, Vanilla=0, salt=0),\n",
       " Row(Type='Muffin', Flour=47, Milk=24, Sugar=12, Butter=6, Egg=9, Baking Powder=1, Vanilla=0, salt=0),\n",
       " Row(Type='Muffin', Flour=47, Milk=23, Sugar=18, Butter=6, Egg=4, Baking Powder=1, Vanilla=0, salt=0)]"
      ]
     },
     "execution_count": 17,
     "metadata": {
      "tags": []
     },
     "output_type": "execute_result"
    }
   ],
   "source": [
    "df.head(3)"
   ]
  },
  {
   "cell_type": "markdown",
   "metadata": {
    "id": "9Npn3lE4OaH4"
   },
   "source": [
    "Pick up a column"
   ]
  },
  {
   "cell_type": "code",
   "execution_count": 18,
   "metadata": {
    "colab": {
     "base_uri": "https://localhost:8080/"
    },
    "id": "YZvjcTpbN024",
    "outputId": "3fd8117f-a9f1-4bb3-d6ea-e20a1dd91760"
   },
   "outputs": [
    {
     "data": {
      "text/plain": [
       "DataFrame[Type: string]"
      ]
     },
     "execution_count": 18,
     "metadata": {
      "tags": []
     },
     "output_type": "execute_result"
    }
   ],
   "source": [
    "df.select(\"Type\")"
   ]
  },
  {
   "cell_type": "code",
   "execution_count": 19,
   "metadata": {
    "colab": {
     "base_uri": "https://localhost:8080/"
    },
    "id": "-49sjrjcOlFY",
    "outputId": "6ce92297-4084-4776-bffd-f5c4de3c4d1a"
   },
   "outputs": [
    {
     "name": "stdout",
     "output_type": "stream",
     "text": [
      "+-------+\n",
      "|   Type|\n",
      "+-------+\n",
      "| Muffin|\n",
      "| Muffin|\n",
      "| Muffin|\n",
      "| Muffin|\n",
      "| Muffin|\n",
      "| Muffin|\n",
      "| Muffin|\n",
      "| Muffin|\n",
      "| Muffin|\n",
      "|Cupcake|\n",
      "|Cupcake|\n",
      "|Cupcake|\n",
      "|Cupcake|\n",
      "|Cupcake|\n",
      "|Cupcake|\n",
      "|Cupcake|\n",
      "|Cupcake|\n",
      "|Cupcake|\n",
      "+-------+\n",
      "\n"
     ]
    }
   ],
   "source": [
    "df.select(\"Type\").show()"
   ]
  },
  {
   "cell_type": "markdown",
   "metadata": {
    "id": "ZJLmfAVVW011"
   },
   "source": [
    "Picking up miltiple columns "
   ]
  },
  {
   "cell_type": "code",
   "execution_count": 21,
   "metadata": {
    "colab": {
     "base_uri": "https://localhost:8080/"
    },
    "id": "LHDBlGIjOpAf",
    "outputId": "971863f6-b548-4837-b36b-a388581073a5"
   },
   "outputs": [
    {
     "name": "stdout",
     "output_type": "stream",
     "text": [
      "+-------+----+\n",
      "|   Type|Milk|\n",
      "+-------+----+\n",
      "| Muffin|  28|\n",
      "| Muffin|  24|\n",
      "| Muffin|  23|\n",
      "| Muffin|  25|\n",
      "| Muffin|  27|\n",
      "| Muffin|  27|\n",
      "| Muffin|  26|\n",
      "| Muffin|  17|\n",
      "| Muffin|  17|\n",
      "|Cupcake|   0|\n",
      "|Cupcake|  17|\n",
      "|Cupcake|  13|\n",
      "|Cupcake|  15|\n",
      "|Cupcake|  18|\n",
      "|Cupcake|  14|\n",
      "|Cupcake|  15|\n",
      "|Cupcake|  16|\n",
      "|Cupcake|  17|\n",
      "+-------+----+\n",
      "\n"
     ]
    }
   ],
   "source": [
    "df.select([\"Type\",\"Milk\"]).show()"
   ]
  },
  {
   "cell_type": "code",
   "execution_count": 22,
   "metadata": {
    "colab": {
     "base_uri": "https://localhost:8080/"
    },
    "id": "073qjppKPBaA",
    "outputId": "083c5f2d-b8a7-46fb-a67c-702642d9651e"
   },
   "outputs": [
    {
     "data": {
      "text/plain": [
       "[('Type', 'string'),\n",
       " ('Flour', 'int'),\n",
       " ('Milk', 'int'),\n",
       " ('Sugar', 'int'),\n",
       " ('Butter', 'int'),\n",
       " ('Egg', 'int'),\n",
       " ('Baking Powder', 'int'),\n",
       " ('Vanilla', 'int'),\n",
       " ('salt', 'int')]"
      ]
     },
     "execution_count": 22,
     "metadata": {
      "tags": []
     },
     "output_type": "execute_result"
    }
   ],
   "source": [
    "df.dtypes"
   ]
  },
  {
   "cell_type": "markdown",
   "metadata": {
    "id": "klNEB-oyW4yk"
   },
   "source": [
    "Describe "
   ]
  },
  {
   "cell_type": "code",
   "execution_count": 25,
   "metadata": {
    "colab": {
     "base_uri": "https://localhost:8080/"
    },
    "id": "1_blbxd6Pjhv",
    "outputId": "a7fe351d-f2c6-45d0-a613-5ba6a580600f"
   },
   "outputs": [
    {
     "name": "stdout",
     "output_type": "stream",
     "text": [
      "+-------+-------+-----------------+------------------+------------------+------------------+------------------+------------------+------------------+----+\n",
      "|summary|   Type|            Flour|              Milk|             Sugar|            Butter|               Egg|     Baking Powder|           Vanilla|salt|\n",
      "+-------+-------+-----------------+------------------+------------------+------------------+------------------+------------------+------------------+----+\n",
      "|  count|     18|               18|                18|                18|                18|                18|                18|                18|  18|\n",
      "|   mean|   null|43.94444444444444|18.833333333333332|17.166666666666668|10.722222222222221| 7.111111111111111|1.2222222222222223|0.5555555555555556| 0.0|\n",
      "| stddev|   null|7.400097155341723| 6.921832467337125|  7.96499695358311| 4.848353942083068|3.1787694416863097|0.6467616667635545|0.5113099925649136| 0.0|\n",
      "|    min|Cupcake|               34|                 0|                 3|                 5|                 4|                 0|                 0|   0|\n",
      "|    max| Muffin|               55|                28|                31|                20|                14|                 2|                 1|   0|\n",
      "+-------+-------+-----------------+------------------+------------------+------------------+------------------+------------------+------------------+----+\n",
      "\n"
     ]
    }
   ],
   "source": [
    "df.describe().show()"
   ]
  },
  {
   "cell_type": "markdown",
   "metadata": {
    "id": "TLs18kTkQdkd"
   },
   "source": [
    "Adding columns "
   ]
  },
  {
   "cell_type": "code",
   "execution_count": 29,
   "metadata": {
    "id": "5bN_9BNUPt_n"
   },
   "outputs": [],
   "source": [
    "a=df.withColumn(\"datta\",df[\"Flour\"]*2)"
   ]
  },
  {
   "cell_type": "code",
   "execution_count": 30,
   "metadata": {
    "colab": {
     "base_uri": "https://localhost:8080/"
    },
    "id": "gtqQbLS2QrPf",
    "outputId": "abb55019-8c7a-4269-be26-626fe8a3cf1b"
   },
   "outputs": [
    {
     "name": "stdout",
     "output_type": "stream",
     "text": [
      "+-------+-----+----+-----+------+---+-------------+-------+----+-----+\n",
      "|   Type|Flour|Milk|Sugar|Butter|Egg|Baking Powder|Vanilla|salt|datta|\n",
      "+-------+-----+----+-----+------+---+-------------+-------+----+-----+\n",
      "| Muffin|   55|  28|    3|     7|  5|            2|      0|   0|  110|\n",
      "| Muffin|   47|  24|   12|     6|  9|            1|      0|   0|   94|\n",
      "| Muffin|   47|  23|   18|     6|  4|            1|      0|   0|   94|\n",
      "| Muffin|   50|  25|   12|     6|  5|            2|      1|   0|  100|\n",
      "| Muffin|   55|  27|    3|     7|  5|            2|      1|   0|  110|\n",
      "| Muffin|   54|  27|    7|     5|  5|            2|      0|   0|  108|\n",
      "| Muffin|   47|  26|   10|    10|  4|            1|      0|   0|   94|\n",
      "| Muffin|   50|  17|   17|     8|  6|            1|      0|   0|  100|\n",
      "| Muffin|   50|  17|   17|    11|  4|            1|      0|   0|  100|\n",
      "|Cupcake|   39|   0|   26|    19| 14|            1|      1|   0|   78|\n",
      "|Cupcake|   34|  17|   20|    20|  5|            2|      1|   0|   68|\n",
      "|Cupcake|   39|  13|   17|    19| 10|            1|      1|   0|   78|\n",
      "|Cupcake|   38|  15|   23|    15|  8|            0|      1|   0|   76|\n",
      "|Cupcake|   42|  18|   25|     9|  5|            1|      0|   0|   84|\n",
      "|Cupcake|   36|  14|   21|    14| 11|            2|      1|   0|   72|\n",
      "|Cupcake|   38|  15|   31|     8|  6|            1|      1|   0|   76|\n",
      "|Cupcake|   36|  16|   24|    12|  9|            1|      1|   0|   72|\n",
      "|Cupcake|   34|  17|   23|    11| 13|            0|      1|   0|   68|\n",
      "+-------+-----+----+-----+------+---+-------------+-------+----+-----+\n",
      "\n"
     ]
    }
   ],
   "source": [
    "a.show()"
   ]
  },
  {
   "cell_type": "markdown",
   "metadata": {
    "id": "vA8Av5leRMhf"
   },
   "source": [
    "dropping columns"
   ]
  },
  {
   "cell_type": "code",
   "execution_count": 31,
   "metadata": {
    "id": "XeeSff6QQ8bg"
   },
   "outputs": [],
   "source": [
    "d=df.drop(\"datta\")"
   ]
  },
  {
   "cell_type": "code",
   "execution_count": 32,
   "metadata": {
    "colab": {
     "base_uri": "https://localhost:8080/"
    },
    "id": "FVCNyNtXRKSx",
    "outputId": "fc12caa8-8993-46a1-f857-87c32b2e95bf"
   },
   "outputs": [
    {
     "name": "stdout",
     "output_type": "stream",
     "text": [
      "+-------+-----+----+-----+------+---+-------------+-------+----+\n",
      "|   Type|Flour|Milk|Sugar|Butter|Egg|Baking Powder|Vanilla|salt|\n",
      "+-------+-----+----+-----+------+---+-------------+-------+----+\n",
      "| Muffin|   55|  28|    3|     7|  5|            2|      0|   0|\n",
      "| Muffin|   47|  24|   12|     6|  9|            1|      0|   0|\n",
      "| Muffin|   47|  23|   18|     6|  4|            1|      0|   0|\n",
      "| Muffin|   50|  25|   12|     6|  5|            2|      1|   0|\n",
      "| Muffin|   55|  27|    3|     7|  5|            2|      1|   0|\n",
      "| Muffin|   54|  27|    7|     5|  5|            2|      0|   0|\n",
      "| Muffin|   47|  26|   10|    10|  4|            1|      0|   0|\n",
      "| Muffin|   50|  17|   17|     8|  6|            1|      0|   0|\n",
      "| Muffin|   50|  17|   17|    11|  4|            1|      0|   0|\n",
      "|Cupcake|   39|   0|   26|    19| 14|            1|      1|   0|\n",
      "|Cupcake|   34|  17|   20|    20|  5|            2|      1|   0|\n",
      "|Cupcake|   39|  13|   17|    19| 10|            1|      1|   0|\n",
      "|Cupcake|   38|  15|   23|    15|  8|            0|      1|   0|\n",
      "|Cupcake|   42|  18|   25|     9|  5|            1|      0|   0|\n",
      "|Cupcake|   36|  14|   21|    14| 11|            2|      1|   0|\n",
      "|Cupcake|   38|  15|   31|     8|  6|            1|      1|   0|\n",
      "|Cupcake|   36|  16|   24|    12|  9|            1|      1|   0|\n",
      "|Cupcake|   34|  17|   23|    11| 13|            0|      1|   0|\n",
      "+-------+-----+----+-----+------+---+-------------+-------+----+\n",
      "\n"
     ]
    }
   ],
   "source": [
    "d.show()"
   ]
  },
  {
   "cell_type": "markdown",
   "metadata": {
    "id": "Iz-8ZhpVRqNG"
   },
   "source": [
    "REname columns"
   ]
  },
  {
   "cell_type": "code",
   "execution_count": 33,
   "metadata": {
    "id": "gvjIrenTRLdJ"
   },
   "outputs": [],
   "source": [
    "r=df.withColumnRenamed(\"Type\",\"New_Type\")"
   ]
  },
  {
   "cell_type": "code",
   "execution_count": 34,
   "metadata": {
    "colab": {
     "base_uri": "https://localhost:8080/"
    },
    "id": "DmlQ7shVRz85",
    "outputId": "5453a90d-0f3a-4552-f6bd-c82172251a54"
   },
   "outputs": [
    {
     "name": "stdout",
     "output_type": "stream",
     "text": [
      "+--------+-----+----+-----+------+---+-------------+-------+----+\n",
      "|New_Type|Flour|Milk|Sugar|Butter|Egg|Baking Powder|Vanilla|salt|\n",
      "+--------+-----+----+-----+------+---+-------------+-------+----+\n",
      "|  Muffin|   55|  28|    3|     7|  5|            2|      0|   0|\n",
      "|  Muffin|   47|  24|   12|     6|  9|            1|      0|   0|\n",
      "|  Muffin|   47|  23|   18|     6|  4|            1|      0|   0|\n",
      "|  Muffin|   50|  25|   12|     6|  5|            2|      1|   0|\n",
      "|  Muffin|   55|  27|    3|     7|  5|            2|      1|   0|\n",
      "|  Muffin|   54|  27|    7|     5|  5|            2|      0|   0|\n",
      "|  Muffin|   47|  26|   10|    10|  4|            1|      0|   0|\n",
      "|  Muffin|   50|  17|   17|     8|  6|            1|      0|   0|\n",
      "|  Muffin|   50|  17|   17|    11|  4|            1|      0|   0|\n",
      "| Cupcake|   39|   0|   26|    19| 14|            1|      1|   0|\n",
      "| Cupcake|   34|  17|   20|    20|  5|            2|      1|   0|\n",
      "| Cupcake|   39|  13|   17|    19| 10|            1|      1|   0|\n",
      "| Cupcake|   38|  15|   23|    15|  8|            0|      1|   0|\n",
      "| Cupcake|   42|  18|   25|     9|  5|            1|      0|   0|\n",
      "| Cupcake|   36|  14|   21|    14| 11|            2|      1|   0|\n",
      "| Cupcake|   38|  15|   31|     8|  6|            1|      1|   0|\n",
      "| Cupcake|   36|  16|   24|    12|  9|            1|      1|   0|\n",
      "| Cupcake|   34|  17|   23|    11| 13|            0|      1|   0|\n",
      "+--------+-----+----+-----+------+---+-------------+-------+----+\n",
      "\n"
     ]
    }
   ],
   "source": [
    "r.show()"
   ]
  },
  {
   "cell_type": "code",
   "execution_count": null,
   "metadata": {
    "id": "jMiJazntR2RD"
   },
   "outputs": [],
   "source": []
  }
 ],
 "metadata": {
  "colab": {
   "name": "Intro pyspark part 1.ipynb",
   "provenance": []
  },
  "kernelspec": {
   "display_name": "Python 3",
   "language": "python",
   "name": "python3"
  },
  "language_info": {
   "codemirror_mode": {
    "name": "ipython",
    "version": 3
   },
   "file_extension": ".py",
   "mimetype": "text/x-python",
   "name": "python",
   "nbconvert_exporter": "python",
   "pygments_lexer": "ipython3",
   "version": "3.8.5"
  }
 },
 "nbformat": 4,
 "nbformat_minor": 1
}
