{
  "nbformat": 4,
  "nbformat_minor": 0,
  "metadata": {
    "colab": {
      "name": "Part 3Filter and Groupby and aggeration_fnn pyspark.ipynb",
      "provenance": [],
      "collapsed_sections": []
    },
    "kernelspec": {
      "name": "python3",
      "display_name": "Python 3"
    },
    "language_info": {
      "name": "python"
    }
  },
  "cells": [
    {
      "cell_type": "code",
      "metadata": {
        "colab": {
          "base_uri": "https://localhost:8080/"
        },
        "id": "UC06U5TzTyG9",
        "outputId": "c162b05e-a596-43e1-b608-5daa8b3a376d"
      },
      "source": [
        "!pip install pyspark"
      ],
      "execution_count": 1,
      "outputs": [
        {
          "output_type": "stream",
          "text": [
            "Collecting pyspark\n",
            "\u001b[?25l  Downloading https://files.pythonhosted.org/packages/89/db/e18cfd78e408de957821ec5ca56de1250645b05f8523d169803d8df35a64/pyspark-3.1.2.tar.gz (212.4MB)\n",
            "\u001b[K     |████████████████████████████████| 212.4MB 60kB/s \n",
            "\u001b[?25hCollecting py4j==0.10.9\n",
            "\u001b[?25l  Downloading https://files.pythonhosted.org/packages/9e/b6/6a4fb90cd235dc8e265a6a2067f2a2c99f0d91787f06aca4bcf7c23f3f80/py4j-0.10.9-py2.py3-none-any.whl (198kB)\n",
            "\u001b[K     |████████████████████████████████| 204kB 14.8MB/s \n",
            "\u001b[?25hBuilding wheels for collected packages: pyspark\n",
            "  Building wheel for pyspark (setup.py) ... \u001b[?25l\u001b[?25hdone\n",
            "  Created wheel for pyspark: filename=pyspark-3.1.2-py2.py3-none-any.whl size=212880768 sha256=2c65c9f85a83bbc932d14e1cf116ee0c94773a8469e99ce5fec01e28f828972e\n",
            "  Stored in directory: /root/.cache/pip/wheels/40/1b/2c/30f43be2627857ab80062bef1527c0128f7b4070b6b2d02139\n",
            "Successfully built pyspark\n",
            "Installing collected packages: py4j, pyspark\n",
            "Successfully installed py4j-0.10.9 pyspark-3.1.2\n"
          ],
          "name": "stdout"
        }
      ]
    },
    {
      "cell_type": "code",
      "metadata": {
        "id": "lOFX3501T4d7"
      },
      "source": [
        "from pyspark.sql import SparkSession"
      ],
      "execution_count": 2,
      "outputs": []
    },
    {
      "cell_type": "code",
      "metadata": {
        "id": "xhex81U3Uj2g"
      },
      "source": [
        "spark=SparkSession.builder.appName(\"Dataframe\").getOrCreate()"
      ],
      "execution_count": 3,
      "outputs": []
    },
    {
      "cell_type": "code",
      "metadata": {
        "colab": {
          "base_uri": "https://localhost:8080/"
        },
        "id": "Ll5lvl7lU3_g",
        "outputId": "c8e8b360-6159-43a2-ac86-ff4e33653379"
      },
      "source": [
        "df=spark.read.csv(\"/content/drive/MyDrive/Big data_Apache Spark,PySpark/data.csv\",header=True,inferSchema=True)\n",
        "df.show()"
      ],
      "execution_count": 4,
      "outputs": [
        {
          "output_type": "stream",
          "text": [
            "+-------+-----+----+-----+------+---+-------------+-------+----+\n",
            "|   Type|Flour|Milk|Sugar|Butter|Egg|Baking Powder|Vanilla|salt|\n",
            "+-------+-----+----+-----+------+---+-------------+-------+----+\n",
            "| Muffin|   55|  28|    3|     7|  5|            2|      0|   0|\n",
            "| Muffin|   47|  24|   12|     6|  9|            1|      0|   0|\n",
            "| Muffin|   47|  23|   18|     6|  4|            1|      0|   0|\n",
            "| Muffin|   50|  25|   12|     6|  5|            2|      1|   0|\n",
            "| Muffin|   55|  27|    3|     7|  5|            2|      1|   0|\n",
            "| Muffin|   54|  27|    7|     5|  5|            2|      0|   0|\n",
            "| Muffin|   47|  26|   10|    10|  4|            1|      0|   0|\n",
            "| Muffin|   50|  17|   17|     8|  6|            1|      0|   0|\n",
            "| Muffin|   50|  17|   17|    11|  4|            1|      0|   0|\n",
            "|Cupcake|   39|   0|   26|    19| 14|            1|      1|   0|\n",
            "|Cupcake|   34|  17|   20|    20|  5|            2|      1|   0|\n",
            "|Cupcake|   39|  13|   17|    19| 10|            1|      1|   0|\n",
            "|Cupcake|   38|  15|   23|    15|  8|            0|      1|   0|\n",
            "|Cupcake|   42|  18|   25|     9|  5|            1|      0|   0|\n",
            "|Cupcake|   36|  14|   21|    14| 11|            2|      1|   0|\n",
            "|Cupcake|   38|  15|   31|     8|  6|            1|      1|   0|\n",
            "|Cupcake|   36|  16|   24|    12|  9|            1|      1|   0|\n",
            "|Cupcake|   34|  17|   23|    11| 13|            0|      1|   0|\n",
            "+-------+-----+----+-----+------+---+-------------+-------+----+\n",
            "\n"
          ],
          "name": "stdout"
        }
      ]
    },
    {
      "cell_type": "markdown",
      "metadata": {
        "id": "bHvJ8ELqVmYe"
      },
      "source": [
        "Filter Operation"
      ]
    },
    {
      "cell_type": "code",
      "metadata": {
        "colab": {
          "base_uri": "https://localhost:8080/"
        },
        "id": "NmgyIw5nVDr0",
        "outputId": "deeff021-f893-4126-f0c3-3525a8c1890c"
      },
      "source": [
        "df.filter (\"Sugar<=17\").show()"
      ],
      "execution_count": 10,
      "outputs": [
        {
          "output_type": "stream",
          "text": [
            "+-------+-----+----+-----+------+---+-------------+-------+----+\n",
            "|   Type|Flour|Milk|Sugar|Butter|Egg|Baking Powder|Vanilla|salt|\n",
            "+-------+-----+----+-----+------+---+-------------+-------+----+\n",
            "| Muffin|   55|  28|    3|     7|  5|            2|      0|   0|\n",
            "| Muffin|   47|  24|   12|     6|  9|            1|      0|   0|\n",
            "| Muffin|   50|  25|   12|     6|  5|            2|      1|   0|\n",
            "| Muffin|   55|  27|    3|     7|  5|            2|      1|   0|\n",
            "| Muffin|   54|  27|    7|     5|  5|            2|      0|   0|\n",
            "| Muffin|   47|  26|   10|    10|  4|            1|      0|   0|\n",
            "| Muffin|   50|  17|   17|     8|  6|            1|      0|   0|\n",
            "| Muffin|   50|  17|   17|    11|  4|            1|      0|   0|\n",
            "|Cupcake|   39|  13|   17|    19| 10|            1|      1|   0|\n",
            "+-------+-----+----+-----+------+---+-------------+-------+----+\n",
            "\n"
          ],
          "name": "stdout"
        }
      ]
    },
    {
      "cell_type": "code",
      "metadata": {
        "colab": {
          "base_uri": "https://localhost:8080/"
        },
        "id": "bJM3FzvBV1AI",
        "outputId": "ed0e2371-f7ee-4472-f34c-c75ba14530cb"
      },
      "source": [
        "df.filter(\"Sugar>=17\").select([\"Flour\",\"Egg\"]).show()"
      ],
      "execution_count": 12,
      "outputs": [
        {
          "output_type": "stream",
          "text": [
            "+-----+---+\n",
            "|Flour|Egg|\n",
            "+-----+---+\n",
            "|   47|  4|\n",
            "|   50|  6|\n",
            "|   50|  4|\n",
            "|   39| 14|\n",
            "|   34|  5|\n",
            "|   39| 10|\n",
            "|   38|  8|\n",
            "|   42|  5|\n",
            "|   36| 11|\n",
            "|   38|  6|\n",
            "|   36|  9|\n",
            "|   34| 13|\n",
            "+-----+---+\n",
            "\n"
          ],
          "name": "stdout"
        }
      ]
    },
    {
      "cell_type": "markdown",
      "metadata": {
        "id": "Nc-ndmh9XVFL"
      },
      "source": [
        "Multiple filters"
      ]
    },
    {
      "cell_type": "code",
      "metadata": {
        "colab": {
          "base_uri": "https://localhost:8080/"
        },
        "id": "29xSh152WD2g",
        "outputId": "f4c977ef-2535-40ac-e620-f045d59f3ee8"
      },
      "source": [
        "df.filter((\"Sugar>=17\") and (\"Egg>5\")).select(\"Type\",\"Butter\").show()"
      ],
      "execution_count": 16,
      "outputs": [
        {
          "output_type": "stream",
          "text": [
            "+-------+------+\n",
            "|   Type|Butter|\n",
            "+-------+------+\n",
            "| Muffin|     6|\n",
            "| Muffin|     8|\n",
            "|Cupcake|    19|\n",
            "|Cupcake|    19|\n",
            "|Cupcake|    15|\n",
            "|Cupcake|    14|\n",
            "|Cupcake|     8|\n",
            "|Cupcake|    12|\n",
            "|Cupcake|    11|\n",
            "+-------+------+\n",
            "\n"
          ],
          "name": "stdout"
        }
      ]
    },
    {
      "cell_type": "code",
      "metadata": {
        "colab": {
          "base_uri": "https://localhost:8080/"
        },
        "id": "b0dHdCWOXmAh",
        "outputId": "b55cc457-de5a-42fd-81c7-33ca576b4b61"
      },
      "source": [
        "df.filter((\"Sugar>=17\") or (\"Egg>5\")).select(\"Type\",\"Butter\").show()"
      ],
      "execution_count": 17,
      "outputs": [
        {
          "output_type": "stream",
          "text": [
            "+-------+------+\n",
            "|   Type|Butter|\n",
            "+-------+------+\n",
            "| Muffin|     6|\n",
            "| Muffin|     8|\n",
            "| Muffin|    11|\n",
            "|Cupcake|    19|\n",
            "|Cupcake|    20|\n",
            "|Cupcake|    19|\n",
            "|Cupcake|    15|\n",
            "|Cupcake|     9|\n",
            "|Cupcake|    14|\n",
            "|Cupcake|     8|\n",
            "|Cupcake|    12|\n",
            "|Cupcake|    11|\n",
            "+-------+------+\n",
            "\n"
          ],
          "name": "stdout"
        }
      ]
    },
    {
      "cell_type": "markdown",
      "metadata": {
        "id": "y3furkUtalNq"
      },
      "source": [
        "## Group by and aggr"
      ]
    },
    {
      "cell_type": "code",
      "metadata": {
        "id": "uQ1Apg8BYDCZ"
      },
      "source": [
        "spark_2=SparkSession.builder.appName(\"Groupby_Agg\").getOrCreate()"
      ],
      "execution_count": 18,
      "outputs": []
    },
    {
      "cell_type": "code",
      "metadata": {
        "colab": {
          "base_uri": "https://localhost:8080/"
        },
        "id": "fCeoPocWa7ES",
        "outputId": "50f2fc7a-ab13-4481-f0eb-9ecbc07f54aa"
      },
      "source": [
        "data=spark_2.read.csv(\"/content/drive/MyDrive/Big data_Apache Spark,PySpark/data.csv\",header=True,inferSchema=True)\n",
        "data.show()"
      ],
      "execution_count": 19,
      "outputs": [
        {
          "output_type": "stream",
          "text": [
            "+-------+-----+----+-----+------+---+-------------+-------+----+\n",
            "|   Type|Flour|Milk|Sugar|Butter|Egg|Baking Powder|Vanilla|salt|\n",
            "+-------+-----+----+-----+------+---+-------------+-------+----+\n",
            "| Muffin|   55|  28|    3|     7|  5|            2|      0|   0|\n",
            "| Muffin|   47|  24|   12|     6|  9|            1|      0|   0|\n",
            "| Muffin|   47|  23|   18|     6|  4|            1|      0|   0|\n",
            "| Muffin|   50|  25|   12|     6|  5|            2|      1|   0|\n",
            "| Muffin|   55|  27|    3|     7|  5|            2|      1|   0|\n",
            "| Muffin|   54|  27|    7|     5|  5|            2|      0|   0|\n",
            "| Muffin|   47|  26|   10|    10|  4|            1|      0|   0|\n",
            "| Muffin|   50|  17|   17|     8|  6|            1|      0|   0|\n",
            "| Muffin|   50|  17|   17|    11|  4|            1|      0|   0|\n",
            "|Cupcake|   39|   0|   26|    19| 14|            1|      1|   0|\n",
            "|Cupcake|   34|  17|   20|    20|  5|            2|      1|   0|\n",
            "|Cupcake|   39|  13|   17|    19| 10|            1|      1|   0|\n",
            "|Cupcake|   38|  15|   23|    15|  8|            0|      1|   0|\n",
            "|Cupcake|   42|  18|   25|     9|  5|            1|      0|   0|\n",
            "|Cupcake|   36|  14|   21|    14| 11|            2|      1|   0|\n",
            "|Cupcake|   38|  15|   31|     8|  6|            1|      1|   0|\n",
            "|Cupcake|   36|  16|   24|    12|  9|            1|      1|   0|\n",
            "|Cupcake|   34|  17|   23|    11| 13|            0|      1|   0|\n",
            "+-------+-----+----+-----+------+---+-------------+-------+----+\n",
            "\n"
          ],
          "name": "stdout"
        }
      ]
    },
    {
      "cell_type": "code",
      "metadata": {
        "colab": {
          "base_uri": "https://localhost:8080/"
        },
        "id": "1VT4MUfHbS1E",
        "outputId": "fae295d9-3b48-4b10-e0cb-e37d5439f10c"
      },
      "source": [
        "data.printSchema()"
      ],
      "execution_count": 23,
      "outputs": [
        {
          "output_type": "stream",
          "text": [
            "root\n",
            " |-- Type: string (nullable = true)\n",
            " |-- Flour: integer (nullable = true)\n",
            " |-- Milk: integer (nullable = true)\n",
            " |-- Sugar: integer (nullable = true)\n",
            " |-- Butter: integer (nullable = true)\n",
            " |-- Egg: integer (nullable = true)\n",
            " |-- Baking Powder: integer (nullable = true)\n",
            " |-- Vanilla: integer (nullable = true)\n",
            " |-- salt: integer (nullable = true)\n",
            "\n"
          ],
          "name": "stdout"
        }
      ]
    },
    {
      "cell_type": "markdown",
      "metadata": {
        "id": "koJw4dfWceO8"
      },
      "source": [
        "if we see the sum of material used "
      ]
    },
    {
      "cell_type": "code",
      "metadata": {
        "colab": {
          "base_uri": "https://localhost:8080/"
        },
        "id": "re5mkmYrbmPJ",
        "outputId": "a1e6f6e6-b5f5-41a8-9147-ca2ca502bc0c"
      },
      "source": [
        "data.groupBy(\"Type\").sum().show()"
      ],
      "execution_count": 24,
      "outputs": [
        {
          "output_type": "stream",
          "text": [
            "+-------+----------+---------+----------+-----------+--------+------------------+------------+---------+\n",
            "|   Type|sum(Flour)|sum(Milk)|sum(Sugar)|sum(Butter)|sum(Egg)|sum(Baking Powder)|sum(Vanilla)|sum(salt)|\n",
            "+-------+----------+---------+----------+-----------+--------+------------------+------------+---------+\n",
            "| Muffin|       455|      214|        99|         66|      47|                13|           2|        0|\n",
            "|Cupcake|       336|      125|       210|        127|      81|                 9|           8|        0|\n",
            "+-------+----------+---------+----------+-----------+--------+------------------+------------+---------+\n",
            "\n"
          ],
          "name": "stdout"
        }
      ]
    },
    {
      "cell_type": "code",
      "metadata": {
        "colab": {
          "base_uri": "https://localhost:8080/"
        },
        "id": "vGeedAhmcR8i",
        "outputId": "45c66ddd-f3dd-4f01-946b-209dd08b08cb"
      },
      "source": [
        "data.groupBy(\"Type\").mean().show()"
      ],
      "execution_count": 25,
      "outputs": [
        {
          "output_type": "stream",
          "text": [
            "+-------+------------------+-----------------+------------------+-----------------+-----------------+------------------+------------------+---------+\n",
            "|   Type|        avg(Flour)|        avg(Milk)|        avg(Sugar)|      avg(Butter)|         avg(Egg)|avg(Baking Powder)|      avg(Vanilla)|avg(salt)|\n",
            "+-------+------------------+-----------------+------------------+-----------------+-----------------+------------------+------------------+---------+\n",
            "| Muffin| 50.55555555555556|23.77777777777778|              11.0|7.333333333333333|5.222222222222222|1.4444444444444444|0.2222222222222222|      0.0|\n",
            "|Cupcake|37.333333333333336|13.88888888888889|23.333333333333332|14.11111111111111|              9.0|               1.0|0.8888888888888888|      0.0|\n",
            "+-------+------------------+-----------------+------------------+-----------------+-----------------+------------------+------------------+---------+\n",
            "\n"
          ],
          "name": "stdout"
        }
      ]
    },
    {
      "cell_type": "code",
      "metadata": {
        "colab": {
          "base_uri": "https://localhost:8080/"
        },
        "id": "OpN2IRGUdmyW",
        "outputId": "4403e73e-cf8a-489f-b43f-e81f6cca62b7"
      },
      "source": [
        "data.groupBy(\"Type\").count().show()"
      ],
      "execution_count": 26,
      "outputs": [
        {
          "output_type": "stream",
          "text": [
            "+-------+-----+\n",
            "|   Type|count|\n",
            "+-------+-----+\n",
            "| Muffin|    9|\n",
            "|Cupcake|    9|\n",
            "+-------+-----+\n",
            "\n"
          ],
          "name": "stdout"
        }
      ]
    },
    {
      "cell_type": "code",
      "metadata": {
        "colab": {
          "base_uri": "https://localhost:8080/"
        },
        "id": "e7_ERCIOdZrk",
        "outputId": "37d2b01f-4086-41e2-c85a-abca7cbc328a"
      },
      "source": [
        "data.groupBy(\"Type\").max().show()"
      ],
      "execution_count": 27,
      "outputs": [
        {
          "output_type": "stream",
          "text": [
            "+-------+----------+---------+----------+-----------+--------+------------------+------------+---------+\n",
            "|   Type|max(Flour)|max(Milk)|max(Sugar)|max(Butter)|max(Egg)|max(Baking Powder)|max(Vanilla)|max(salt)|\n",
            "+-------+----------+---------+----------+-----------+--------+------------------+------------+---------+\n",
            "| Muffin|        55|       28|        18|         11|       9|                 2|           1|        0|\n",
            "|Cupcake|        42|       18|        31|         20|      14|                 2|           1|        0|\n",
            "+-------+----------+---------+----------+-----------+--------+------------------+------------+---------+\n",
            "\n"
          ],
          "name": "stdout"
        }
      ]
    },
    {
      "cell_type": "code",
      "metadata": {
        "id": "FrQUiKUleB7L"
      },
      "source": [
        ""
      ],
      "execution_count": null,
      "outputs": []
    },
    {
      "cell_type": "code",
      "metadata": {
        "id": "2r8o_WySeifm"
      },
      "source": [
        ""
      ],
      "execution_count": null,
      "outputs": []
    }
  ]
}